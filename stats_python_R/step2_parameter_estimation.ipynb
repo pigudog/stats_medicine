{
 "cells": [
  {
   "cell_type": "markdown",
   "id": "78f8009e-e592-45ec-880d-3a2c8c48b015",
   "metadata": {},
   "source": [
    "# 2.1 点估计-极大似然法\n",
    "## 2.1.1 极大似然法的概念\n",
    "## 2.1.2 连续函数空间的解析解"
   ]
  },
  {
   "cell_type": "code",
   "execution_count": 1,
   "id": "d6d27956-f394-454e-b8ce-e5830b17dae9",
   "metadata": {
    "tags": []
   },
   "outputs": [
    {
     "name": "stdout",
     "output_type": "stream",
     "text": [
      "前10个值： [ 2.69137236 11.75849144 -4.97270788 -7.07326982  1.42206366 -0.09344527\n",
      "  8.39577773  1.52678488 15.44926397  1.2740186 ]\n",
      "\n",
      "使用极大似然法估计得到的均值mu：1.66，标准差sigma为：10.06。\n"
     ]
    }
   ],
   "source": [
    "import numpy as np\n",
    "import scipy.stats as st\n",
    "from  collections import namedtuple \n",
    "\n",
    "#均值为2，标准差为10的正态分布随机变量1000个\n",
    "x = st.norm.rvs(loc=2,scale=10,size=1000)\n",
    "print('前10个值：',x[0:10])\n",
    "\n",
    "#通过上述对数似然方程的估计公式，计算均值和标准差\n",
    "mu = np.sum(x)/len(x)\n",
    "sigma = np.sqrt(np.sum((x-np.mean(x))**2)/len(x))\n",
    "print('\\n使用极大似然法估计得到的均值mu：%0.2f，标准差sigma为：%0.2f。'%(mu,sigma))"
   ]
  },
  {
   "cell_type": "markdown",
   "id": "f35d21ab-693c-4cf0-8a2b-3bcb79919a27",
   "metadata": {},
   "source": [
    "## 2.1.3 对数似然方程的数值解\n",
    "\n",
    "以柯西(Couchy)分布为例,该总体分布的概率密度函数的尺度参数为γ，位置参数θ。\n",
    "\n",
    "当尺度参数为1，位置参数为0时，称之为柯西分布的标准化形式或标准柯西分布。"
   ]
  },
  {
   "cell_type": "code",
   "execution_count": 2,
   "id": "c1f45be0-c61c-4c52-b932-fa0fed303e58",
   "metadata": {
    "tags": []
   },
   "outputs": [
    {
     "name": "stdout",
     "output_type": "stream",
     "text": [
      "fsolve函数求解： [14.83009993]\n",
      "root函数求解 [14.83009993]\n",
      "模拟数据的中位数： 14.84033238399855\n"
     ]
    }
   ],
   "source": [
    "'''\n",
    "使用scipy的fsolve和root函数求似然方程的数值解\n",
    "fsolve和root函数都需要使用样本数据的中位数作为求解的起始点\n",
    "基于的思路都是不断地迭代\n",
    "'''\n",
    "\n",
    "from scipy.optimize import fsolve,root\n",
    "#生成模拟数据\n",
    "data = st.cauchy.rvs(loc=15,scale=1,size = 100)\n",
    "#对数似然方程\n",
    "def func(theta,x):\n",
    "    return np.sum((x-theta)/(1+(x-theta)**2))\n",
    "result = fsolve(func,np.median(data),args=data)\n",
    "print('fsolve函数求解：',result)\n",
    "result1 = root(func,np.median(data),args=data)\n",
    "print('root函数求解',result1.x)\n",
    "print('模拟数据的中位数：',np.median(data))"
   ]
  },
  {
   "cell_type": "code",
   "execution_count": 3,
   "id": "24fcd198-c197-437d-ace4-ee7c0733497e",
   "metadata": {
    "tags": []
   },
   "outputs": [
    {
     "name": "stdout",
     "output_type": "stream",
     "text": [
      "14.830092310643128\n",
      "14.830099934030185\n",
      "14.830099934034045\n"
     ]
    }
   ],
   "source": [
    "# 牛顿法\n",
    "def cauchy_mle(x,theta):\n",
    "    sum = 0\n",
    "    for i in range(0,len(x)):\n",
    "        sum = sum+(x[i]-theta)/(1+(x[i]-theta)**2)\n",
    "    return sum\n",
    "\n",
    "#对数似然函数的一阶导数\n",
    "def cauchy_mle_der(x,theta):\n",
    "    sum = 0  \n",
    "    for i in range(0,len(x)):\n",
    "        tmp = (x[i]-theta)**2\n",
    "        sum = sum+(tmp-1)/(1+tmp)**2\n",
    "    return sum\n",
    "\n",
    "#用样本中位数作为初始估计值\n",
    "theta=np.median(data)\n",
    "\n",
    "#迭代次数控制，当前一次迭代值与当前迭代值小于0.001时停止迭代。\n",
    "#说明已经收敛。\n",
    "std_diff=1e-18\n",
    "\n",
    "while True:##无限循环\n",
    "    ###牛顿法的迭代公式\n",
    "    theta1 = theta - cauchy_mle(data,theta)/cauchy_mle_der(data,theta)\n",
    "    ###当本次迭代的数值解和上次迭代数值解之差的绝对值小于阈值时，停止迭代，\n",
    "    if np.abs(theta1-theta)<=std_diff:\n",
    "        break\n",
    "    else:\n",
    "        theta=theta1\n",
    "    print(theta)"
   ]
  }
 ],
 "metadata": {
  "kernelspec": {
   "display_name": "scvi-env",
   "language": "python",
   "name": "scvi-env"
  },
  "language_info": {
   "codemirror_mode": {
    "name": "ipython",
    "version": 3
   },
   "file_extension": ".py",
   "mimetype": "text/x-python",
   "name": "python",
   "nbconvert_exporter": "python",
   "pygments_lexer": "ipython3",
   "version": "3.9.17"
  }
 },
 "nbformat": 4,
 "nbformat_minor": 5
}
